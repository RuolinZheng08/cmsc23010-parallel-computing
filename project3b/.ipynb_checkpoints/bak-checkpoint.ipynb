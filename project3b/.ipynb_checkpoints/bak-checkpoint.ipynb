{
 "cells": [
  {
   "cell_type": "code",
   "execution_count": 24,
   "metadata": {},
   "outputs": [],
   "source": [
    "import re\n",
    "import csv\n",
    "import itertools\n",
    "import pandas as pd\n",
    "import numpy as np\n",
    "import matplotlib.pyplot as plt"
   ]
  },
  {
   "cell_type": "code",
   "execution_count": 31,
   "metadata": {},
   "outputs": [
    {
     "data": {
      "text/plain": [
       "['serial',\n",
       " 'lockfree',\n",
       " 'mutex homequeue',\n",
       " 'mutex awesome',\n",
       " 'clh homequeue',\n",
       " 'clh awesome']"
      ]
     },
     "execution_count": 31,
     "metadata": {},
     "output_type": "execute_result"
    }
   ],
   "source": [
    "locks = ['mutex', 'clh']\n",
    "strategies = ['homequeue', 'awesome']\n",
    "combo = list(itertools.product(locks, strategies))\n",
    "combo = [' '.join(elm) for elm in combo]\n",
    "combo = ['serial', 'lockfree'] + combo\n",
    "combo"
   ]
  },
  {
   "cell_type": "code",
   "execution_count": 2,
   "metadata": {},
   "outputs": [],
   "source": [
    "def strip_integers(line):\n",
    "  return re.findall(r'[0-9]+', line)"
   ]
  },
  {
   "cell_type": "code",
   "execution_count": 6,
   "metadata": {},
   "outputs": [],
   "source": [
    "with open('result/slurm4.txt', 'r') as f:\n",
    "  raw = f.read()\n",
    "parts = raw.split('###')[1:]\n",
    "overhead, uniform, exponential = parts"
   ]
  },
  {
   "cell_type": "code",
   "execution_count": 37,
   "metadata": {},
   "outputs": [],
   "source": [
    "# Trial format for overhead\n",
    "# # Trial 1 with w=25\n",
    "\n",
    "# * serial\n",
    "# Program: m=2000, n=1, w=25, u=1, d=-1, e=1, (null), (null)\n",
    "# Total Time Handling Packets: 2000.093994\n",
    "# Total Packets: 14227399\n",
    "\n",
    "# Trial format for uniform and exponential\n",
    "# # Trial 1 with n=1 and w=1000\n",
    "\n",
    "# * serial\n",
    "# Program: m=2000, n=1, w=1000, u=1, d=-1, e=1, (null), (null)\n",
    "# Total Time Handling Packets: 2000.105957\n",
    "# Total Packets: 820287"
   ]
  },
  {
   "cell_type": "code",
   "execution_count": 94,
   "metadata": {},
   "outputs": [],
   "source": [
    "def parse_trial_header(header):\n",
    "  params = re.match(r'\\s*Trial ([0-9]+) with (n=([0-9]+))?.*?w=([0-9]+)', \n",
    "                      header)\n",
    "  trial_no = int(params.group(1))\n",
    "  mean = int(params.group(4))\n",
    "  threads = 1 if params.group(3) is None else int(params.group(3))\n",
    "  data = {'Trial': trial_no, 'W': mean, 'n': threads}\n",
    "  return data"
   ]
  },
  {
   "cell_type": "code",
   "execution_count": 110,
   "metadata": {},
   "outputs": [],
   "source": [
    "def parse_trial_chunk(chunk):\n",
    "    prog_type = chunk.split('\\n')[0].replace(' ', '')\n",
    "    num_pkt = re.findall(r'Total Packets: ([0-9]+)', chunk)[0]\n",
    "    data = {'Program': prog_type, 'T': num_pkt}\n",
    "    return data"
   ]
  },
  {
   "cell_type": "code",
   "execution_count": 113,
   "metadata": {},
   "outputs": [
    {
     "data": {
      "text/plain": [
       "{'Program': 'serial', 'T': '14227399'}"
      ]
     },
     "execution_count": 113,
     "metadata": {},
     "output_type": "execute_result"
    }
   ],
   "source": [
    "header = trials[0].split('*')[0]\n",
    "body = trials[0].split('*')[1:]\n",
    "parse_trial_header(header)\n",
    "parse_trial_chunk(body[0])"
   ]
  },
  {
   "cell_type": "code",
   "execution_count": 106,
   "metadata": {},
   "outputs": [
    {
     "data": {
      "text/plain": [
       "' lockfree\\nProgram: m=2000, n=1, w=25, u=1, d=8, e=1, lockfree, (null)\\nTotal Time Handling Packets: 2000.435059\\nTotal Packets: 4187308\\n\\n'"
      ]
     },
     "execution_count": 106,
     "metadata": {},
     "output_type": "execute_result"
    }
   ],
   "source": [
    "body[1]"
   ]
  },
  {
   "cell_type": "code",
   "execution_count": 61,
   "metadata": {
    "scrolled": true
   },
   "outputs": [
    {
     "data": {
      "text/plain": [
       "' serial\\nProgram: m=2000, n=1, w=25, u=1, d=-1, e=1, (null), (null)\\nTotal Time Handling Packets: 2000.093994\\nTotal Packets: 14227399\\n\\n'"
      ]
     },
     "execution_count": 61,
     "metadata": {},
     "output_type": "execute_result"
    }
   ],
   "source": [
    "lines = t.split('*')\n",
    "lines[1]"
   ]
  },
  {
   "cell_type": "code",
   "execution_count": 88,
   "metadata": {},
   "outputs": [
    {
     "data": {
      "text/plain": [
       "['']"
      ]
     },
     "execution_count": 88,
     "metadata": {},
     "output_type": "execute_result"
    }
   ],
   "source": [
    "re.findall(r'(\\w*)Program', ' serial\\nProgram')"
   ]
  },
  {
   "cell_type": "code",
   "execution_count": 93,
   "metadata": {},
   "outputs": [
    {
     "data": {
      "text/plain": [
       "'serial'"
      ]
     },
     "execution_count": 93,
     "metadata": {},
     "output_type": "execute_result"
    }
   ],
   "source": [
    "prog_type = lines[1].split('\\n')[0].replace(' ', '')\n",
    "prog_type"
   ]
  },
  {
   "cell_type": "code",
   "execution_count": 89,
   "metadata": {},
   "outputs": [
    {
     "data": {
      "text/plain": [
       "['14227399']"
      ]
     },
     "execution_count": 89,
     "metadata": {},
     "output_type": "execute_result"
    }
   ],
   "source": [
    "prog_type = re.findall(r'Total Packets: ([0-9]+)', lines[1])\n",
    "prog_type"
   ]
  },
  {
   "cell_type": "code",
   "execution_count": 49,
   "metadata": {},
   "outputs": [
    {
     "data": {
      "text/plain": [
       "('1', None, None, '25')"
      ]
     },
     "execution_count": 49,
     "metadata": {},
     "output_type": "execute_result"
    }
   ],
   "source": [
    "m = re.match(r'\\s*Trial ([0-9]+) with (n=([0-9]+))?.*?w=([0-9]+)', lines[0])\n",
    "m.group(1), m.group(2), m.group(3), m.group(4)"
   ]
  },
  {
   "cell_type": "code",
   "execution_count": 18,
   "metadata": {},
   "outputs": [
    {
     "name": "stdout",
     "output_type": "stream",
     "text": [
      " Trial 1 with w=25\n",
      "\n",
      "* serial\n",
      "Program: m=2000, n=1, w=25, u=1, d=-1, e=1, (null), (null)\n",
      "Total Time Handling Packets: 2000.093994\n",
      "Total Packets: 14227399\n",
      "\n",
      "* lockfree\n",
      "Program: m=2000, n=1, w=25, u=1, d=8, e=1, lockfree, (null)\n",
      "Total Time Handling Packets: 2000.435059\n",
      "Total Packets: 4187308\n",
      "\n",
      "* mutex homequeue\n",
      "Program: m=2000, n=1, w=25, u=1, d=8, e=1, homequeue, mutex\n",
      "Total Time Handling Packets: 2000.406006\n",
      "Total Packets: 4139293\n",
      "\n",
      "* mutex awesome\n",
      "Program: m=2000, n=1, w=25, u=1, d=8, e=1, awesome, mutex\n",
      "Total Time Handling Packets: 2000.447021\n",
      "Total Packets: 4084058\n",
      "\n",
      "* clh homequeue\n",
      "Program: m=2000, n=1, w=25, u=1, d=8, e=1, homequeue, clh\n",
      "Total Time Handling Packets: 2000.385010\n",
      "Total Packets: 4059291\n",
      "\n",
      "* clh awesome\n",
      "Program: m=2000, n=1, w=25, u=1, d=8, e=1, awesome, clh\n",
      "Total Time Handling Packets: 2000.321045\n",
      "Total Packets: 4028398\n",
      "\n",
      "\n"
     ]
    }
   ],
   "source": [
    "print(trials[0])\n"
   ]
  },
  {
   "cell_type": "code",
   "execution_count": 16,
   "metadata": {},
   "outputs": [
    {
     "data": {
      "text/plain": [
       "30"
      ]
     },
     "execution_count": 16,
     "metadata": {},
     "output_type": "execute_result"
    }
   ],
   "source": [
    "len(trials)"
   ]
  },
  {
   "cell_type": "code",
   "execution_count": 3,
   "metadata": {},
   "outputs": [],
   "source": [
    "# line format:\n",
    "# *** n=2, w=25, t=21474836\n",
    "# Serial        time: 2887.081\n",
    "# Serial-queue  time: 4420.162"
   ]
  },
  {
   "cell_type": "code",
   "execution_count": 4,
   "metadata": {},
   "outputs": [],
   "source": [
    "def to_csv(fname, colnames):\n",
    "  with open(fname) as f:\n",
    "    raw = f.read()\n",
    "  trials = raw.split('###')[1:]\n",
    "  print('Trials:', len(trials))\n",
    "  \n",
    "  clean = []\n",
    "  for trial in trials:\n",
    "    lines = trial.split('***')\n",
    "    trial_no = strip_nums(lines[0])[0]\n",
    "    lines = lines[1:]\n",
    "    clean.extend([trial_no,] + strip_nums(line) for line in lines)\n",
    "  print('Columns:', len(clean[0]))\n",
    "  \n",
    "  with open(fname[:-4] + '.csv', mode='w') as f:\n",
    "    writer = csv.writer(f, delimiter=',')\n",
    "    writer.writerow(colnames)\n",
    "    for line in clean:\n",
    "      writer.writerow(line)"
   ]
  },
  {
   "cell_type": "code",
   "execution_count": 5,
   "metadata": {
    "scrolled": false
   },
   "outputs": [
    {
     "name": "stdout",
     "output_type": "stream",
     "text": [
      "Trials: 5\n",
      "Columns: 6\n",
      "Trials: 5\n",
      "Columns: 5\n",
      "Trials: 3\n",
      "Columns: 6\n",
      "Trials: 5\n",
      "Columns: 6\n",
      "Trials: 11\n",
      "Columns: 6\n"
     ]
    }
   ],
   "source": [
    "to_csv('result/overhead.txt', ['trial', 'n', 'W', 'T', 'Serial', 'Serial-Queue'])\n",
    "to_csv('result/dispatcher.txt', ['trial', 'n', 'W', 'T', 'Parallel'])\n",
    "cols = ['trial', 'n', 'W', 'T', 'Serial', 'Parallel']\n",
    "to_csv('result/constant.txt', cols)\n",
    "to_csv('result/uniform.txt', cols)\n",
    "to_csv('result/exponential.txt', cols)"
   ]
  },
  {
   "cell_type": "code",
   "execution_count": 2,
   "metadata": {},
   "outputs": [],
   "source": [
    "def clean_df(fname, numerator, denominator):\n",
    "  df = pd.read_csv(fname)\n",
    "  df['speedup'] = df[numerator] / df[denominator]\n",
    "  df = df.groupby(['n', 'W']).median()\n",
    "  df = df.drop(columns=['trial'])\n",
    "  df = df.reset_index()\n",
    "  return df"
   ]
  },
  {
   "cell_type": "code",
   "execution_count": 16,
   "metadata": {
    "scrolled": true
   },
   "outputs": [
    {
     "data": {
      "text/plain": [
       "<Figure size 432x288 with 0 Axes>"
      ]
     },
     "metadata": {},
     "output_type": "display_data"
    },
    {
     "data": {
      "image/png": "[encoded data removed]",
      "text/plain": [
       "<Figure size 432x288 with 1 Axes>"
      ]
     },
     "metadata": {
      "needs_background": "light"
     },
     "output_type": "display_data"
    },
    {
     "name": "stdout",
     "output_type": "stream",
     "text": [
      "\\begin{tabular}{rrrrrrr}\n",
      "\\toprule\n",
      "  n &    W &         T &    Serial &  Serial-Queue &   speedup &  Worker \\\\\n",
      "\\midrule\n",
      "  2 &   25 &  21474836 &  2624.146 &      4053.854 &  1.544828 &   10595 \\\\\n",
      "  2 &   50 &  10737418 &  1874.280 &      2595.224 &  1.383789 &    8275 \\\\\n",
      "  2 &  100 &   5368709 &  1507.243 &      1864.783 &  1.235149 &    5758 \\\\\n",
      "  2 &  200 &   2684354 &  1330.752 &      1507.512 &  1.130834 &    3561 \\\\\n",
      "  2 &  400 &   1342177 &  1234.567 &      1323.613 &  1.070951 &    2028 \\\\\n",
      "  2 &  800 &    671088 &  1192.949 &      1235.213 &  1.035592 &    1087 \\\\\n",
      "  9 &   25 &   4772185 &  4651.683 &      7147.226 &  1.536482 &    6009 \\\\\n",
      "  9 &   50 &   2386092 &  3334.937 &      4573.808 &  1.367886 &    4695 \\\\\n",
      "  9 &  100 &   1193046 &  2685.471 &      3310.480 &  1.234476 &    3243 \\\\\n",
      "  9 &  200 &    596523 &  2354.252 &      2664.932 &  1.130338 &    2015 \\\\\n",
      "  9 &  400 &    298261 &  2196.707 &      2346.118 &  1.068564 &    1144 \\\\\n",
      "  9 &  800 &    149130 &  2116.272 &      2191.213 &  1.035074 &     613 \\\\\n",
      " 14 &   25 &   3067833 &  4856.618 &      7536.381 &  1.549092 &    5699 \\\\\n",
      " 14 &   50 &   1533916 &  3476.885 &      4789.550 &  1.381716 &    4484 \\\\\n",
      " 14 &  100 &    766958 &  2799.394 &      3462.973 &  1.234794 &    3101 \\\\\n",
      " 14 &  200 &    383479 &  2462.192 &      2787.673 &  1.130800 &    1926 \\\\\n",
      " 14 &  400 &    191739 &  2294.119 &      2457.878 &  1.070743 &    1092 \\\\\n",
      " 14 &  800 &     95869 &  2209.799 &      2289.653 &  1.035099 &     586 \\\\\n",
      "\\bottomrule\n",
      "\\end{tabular}\n",
      "\n"
     ]
    }
   ],
   "source": [
    "df = clean_df('result/overhead.csv', 'Serial-Queue', 'Serial')\n",
    "df2 = df.pivot(index='W', columns='n', values='speedup')\n",
    "plt.figure()\n",
    "df2.plot(title='Parallel Overhead')\n",
    "plt.xticks([25, 50, 100, 200, 400, 800])\n",
    "plt.xlabel('W')\n",
    "plt.ylabel('Serial-Queue / Serial Ratio')\n",
    "plt.show()\n",
    "df['Worker'] = round(2 ** 30 / df['W'] / df['Serial-Queue']).astype(int)\n",
    "print(df.to_latex(index=False))"
   ]
  },
  {
   "cell_type": "code",
   "execution_count": 27,
   "metadata": {},
   "outputs": [],
   "source": [
    "df2 = pd.DataFrame(columns=['W', 'Worker'])\n",
    "for W in [25, 50, 100, 200, 400, 800]:\n",
    "  avg = int(round(df[df['W'] == W]['Worker'].mean()))\n",
    "  df2 = df2.append({'W': W, 'Worker': avg}, ignore_index=True)"
   ]
  },
  {
   "cell_type": "code",
   "execution_count": 32,
   "metadata": {},
   "outputs": [
    {
     "data": {
      "text/plain": [
       "<Figure size 432x288 with 0 Axes>"
      ]
     },
     "metadata": {},
     "output_type": "display_data"
    },
    {
     "data": {
      "image/png": "[encoded data removed]",
      "text/plain": [
       "<Figure size 432x288 with 1 Axes>"
      ]
     },
     "metadata": {
      "needs_background": "light"
     },
     "output_type": "display_data"
    },
    {
     "name": "stdout",
     "output_type": "stream",
     "text": [
      "\\begin{tabular}{ll}\n",
      "\\toprule\n",
      "   W & Worker \\\\\n",
      "\\midrule\n",
      "  25 &   7434 \\\\\n",
      "  50 &   5818 \\\\\n",
      " 100 &   4034 \\\\\n",
      " 200 &   2501 \\\\\n",
      " 400 &   1421 \\\\\n",
      " 800 &    762 \\\\\n",
      "\\bottomrule\n",
      "\\end{tabular}\n",
      "\n"
     ]
    }
   ],
   "source": [
    "plt.figure()\n",
    "df2.plot(x='W', y='Worker', title='Worker Rate Averaged over n')\n",
    "plt.xticks([25, 50, 100, 200, 400, 800])\n",
    "plt.xlabel('W')\n",
    "plt.ylabel('Worker Rate')\n",
    "plt.show()\n",
    "print(df2.to_latex(index=False))"
   ]
  },
  {
   "cell_type": "code",
   "execution_count": 8,
   "metadata": {},
   "outputs": [],
   "source": [
    "df = pd.read_csv('result/dispatcher.csv')\n",
    "df['#Packet/sec'] = round((df['n'] - 1) * df['T'] / df['Parallel']).astype(int)\n",
    "df = df.round(3)\n",
    "df = df.groupby(['n', 'W']).median()\n",
    "df = df.drop(columns=['trial'])\n",
    "df = df.reset_index()"
   ]
  },
  {
   "cell_type": "code",
   "execution_count": 9,
   "metadata": {
    "scrolled": true
   },
   "outputs": [
    {
     "data": {
      "text/plain": [
       "<Figure size 432x288 with 0 Axes>"
      ]
     },
     "metadata": {},
     "output_type": "display_data"
    },
    {
     "data": {
      "image/png": "[encoded data removed]",
      "text/plain": [
       "<Figure size 432x288 with 1 Axes>"
      ]
     },
     "metadata": {
      "needs_background": "light"
     },
     "output_type": "display_data"
    },
    {
     "name": "stdout",
     "output_type": "stream",
     "text": [
      "\\begin{tabular}{rrrrr}\n",
      "\\toprule\n",
      "  n &  W &        T &  Parallel &  \\#Packet/sec \\\\\n",
      "\\midrule\n",
      "  2 &  1 &  4194304 &  1846.831 &         2271 \\\\\n",
      "  3 &  1 &  2097152 &  2323.815 &         1805 \\\\\n",
      "  5 &  1 &  1048576 &  2440.656 &         1719 \\\\\n",
      "  9 &  1 &   524288 &  2725.052 &         1539 \\\\\n",
      " 14 &  1 &   322638 &  1974.250 &         2124 \\\\\n",
      " 28 &  1 &   155344 &  5294.299 &          792 \\\\\n",
      "\\bottomrule\n",
      "\\end{tabular}\n",
      "\n"
     ]
    }
   ],
   "source": [
    "plt.figure()\n",
    "df.plot(x='n', y='#Packet/sec', title='Dispatcher Rate')\n",
    "plt.xticks([2, 3, 5, 9, 14, 28])\n",
    "plt.xlabel('n')\n",
    "plt.ylabel('Packets per Second')\n",
    "plt.show()\n",
    "print(df.to_latex(index=False))"
   ]
  },
  {
   "cell_type": "code",
   "execution_count": 10,
   "metadata": {},
   "outputs": [],
   "source": [
    "def speedup_plot(fname, title):\n",
    "  df = clean_df(fname, 'Parallel', 'Serial')\n",
    "  df2 = df.pivot(index='n', columns='W', values='speedup')\n",
    "  plt.figure()\n",
    "  df2.plot(title=title)\n",
    "  plt.xticks([2, 3, 5, 9, 14, 28])\n",
    "  plt.xlabel('n')\n",
    "  plt.ylabel('Parallel / Serial Ratio')\n",
    "  plt.show()\n",
    "  print(df.drop(columns='T').to_latex(index=False))"
   ]
  },
  {
   "cell_type": "code",
   "execution_count": 14,
   "metadata": {
    "scrolled": true
   },
   "outputs": [
    {
     "data": {
      "text/plain": [
       "<Figure size 432x288 with 0 Axes>"
      ]
     },
     "metadata": {},
     "output_type": "display_data"
    },
    {
     "data": {
      "image/png": "[encoded data removed]",
      "text/plain": [
       "<Figure size 432x288 with 1 Axes>"
      ]
     },
     "metadata": {
      "needs_background": "light"
     },
     "output_type": "display_data"
    },
    {
     "name": "stdout",
     "output_type": "stream",
     "text": [
      "\\begin{tabular}{rrrrr}\n",
      "\\toprule\n",
      "  n &     W &     Serial &   Parallel &   speedup \\\\\n",
      "\\midrule\n",
      "  2 &  1000 &    292.007 &    325.439 &  1.114490 \\\\\n",
      "  2 &  2000 &    572.277 &    608.243 &  1.067523 \\\\\n",
      "  2 &  4000 &   1128.500 &   1162.073 &  1.029193 \\\\\n",
      "  2 &  8000 &   2242.901 &   2273.204 &  1.013581 \\\\\n",
      "  3 &  1000 &    575.844 &    359.941 &  0.620863 \\\\\n",
      "  3 &  2000 &   1133.538 &    628.894 &  0.554806 \\\\\n",
      "  3 &  4000 &   2252.506 &   1177.656 &  0.524782 \\\\\n",
      "  3 &  8000 &   4477.932 &   2313.432 &  0.518063 \\\\\n",
      "  5 &  1000 &   1151.174 &    372.224 &  0.322072 \\\\\n",
      "  5 &  2000 &   2268.048 &    689.392 &  0.304599 \\\\\n",
      "  5 &  4000 &   4493.259 &   1301.431 &  0.289586 \\\\\n",
      "  5 &  8000 &   8949.366 &   2547.689 &  0.285111 \\\\\n",
      "  9 &  1000 &   2290.665 &    455.253 &  0.198761 \\\\\n",
      "  9 &  2000 &   4522.554 &    714.207 &  0.158079 \\\\\n",
      "  9 &  4000 &   8984.202 &   1339.564 &  0.149082 \\\\\n",
      "  9 &  8000 &  17903.551 &   2543.862 &  0.142085 \\\\\n",
      " 14 &  1000 &   3720.190 &    751.702 &  0.202149 \\\\\n",
      " 14 &  2000 &   7347.641 &    867.759 &  0.118471 \\\\\n",
      " 14 &  4000 &  14597.049 &   1348.615 &  0.092410 \\\\\n",
      " 14 &  8000 &  29076.768 &   2585.090 &  0.088877 \\\\\n",
      " 28 &  1000 &   7728.419 &   2683.516 &  0.347787 \\\\\n",
      " 28 &  2000 &  15261.901 &   5397.506 &  0.353796 \\\\\n",
      " 28 &  4000 &  30311.205 &   8461.193 &  0.281005 \\\\\n",
      " 28 &  8000 &  60419.168 &  16292.993 &  0.269551 \\\\\n",
      "\\bottomrule\n",
      "\\end{tabular}\n",
      "\n"
     ]
    }
   ],
   "source": [
    "speedup_plot('result/constant.csv', 'Speedup with Constant Load')"
   ]
  },
  {
   "cell_type": "code",
   "execution_count": 24,
   "metadata": {
    "scrolled": true
   },
   "outputs": [
    {
     "data": {
      "text/plain": [
       "<Figure size 432x288 with 0 Axes>"
      ]
     },
     "metadata": {},
     "output_type": "display_data"
    },
    {
     "data": {
      "image/png": "[encoded data removed]",
      "text/plain": [
       "<Figure size 432x288 with 1 Axes>"
      ]
     },
     "metadata": {
      "needs_background": "light"
     },
     "output_type": "display_data"
    },
    {
     "name": "stdout",
     "output_type": "stream",
     "text": [
      "\\begin{tabular}{rrrrr}\n",
      "\\toprule\n",
      "  n &     W &     Serial &   Parallel &   speedup \\\\\n",
      "\\midrule\n",
      "  2 &  1000 &    318.642 &    358.941 &  1.124749 \\\\\n",
      "  2 &  2000 &    625.686 &    665.982 &  1.064645 \\\\\n",
      "  2 &  4000 &   1247.180 &   1287.615 &  1.032436 \\\\\n",
      "  2 &  8000 &   2482.137 &   2522.479 &  1.016388 \\\\\n",
      "  3 &  1000 &    636.453 &    373.271 &  0.586874 \\\\\n",
      "  3 &  2000 &   1254.006 &    691.655 &  0.551544 \\\\\n",
      "  3 &  4000 &   2493.042 &   1298.843 &  0.520992 \\\\\n",
      "  3 &  8000 &   4961.769 &   2531.078 &  0.510116 \\\\\n",
      "  5 &  1000 &   1273.798 &    384.494 &  0.301979 \\\\\n",
      "  5 &  2000 &   2510.169 &    686.674 &  0.273250 \\\\\n",
      "  5 &  4000 &   4981.447 &   1300.767 &  0.261113 \\\\\n",
      "  5 &  8000 &   9922.451 &   2535.151 &  0.255499 \\\\\n",
      "  9 &  1000 &   2546.762 &    470.724 &  0.184804 \\\\\n",
      "  9 &  2000 &   5015.293 &    697.433 &  0.139064 \\\\\n",
      "  9 &  4000 &   9955.759 &   1322.366 &  0.132824 \\\\\n",
      "  9 &  8000 &  19840.668 &   2557.476 &  0.128890 \\\\\n",
      " 14 &  1000 &   4139.328 &    742.448 &  0.179364 \\\\\n",
      " 14 &  2000 &   8149.179 &    783.897 &  0.096217 \\\\\n",
      " 14 &  4000 &  16184.746 &   1374.464 &  0.084917 \\\\\n",
      " 14 &  8000 &  32240.371 &   2614.865 &  0.081114 \\\\\n",
      " 28 &  1000 &   8596.008 &   4044.649 &  0.469928 \\\\\n",
      " 28 &  2000 &  16928.953 &   7359.082 &  0.434704 \\\\\n",
      " 28 &  4000 &  33601.812 &  10671.155 &  0.317577 \\\\\n",
      " 28 &  8000 &  66932.602 &  23316.752 &  0.348393 \\\\\n",
      "\\bottomrule\n",
      "\\end{tabular}\n",
      "\n"
     ]
    }
   ],
   "source": [
    "speedup_plot('result/uniform.csv', 'Speedup with Uniform Load')"
   ]
  },
  {
   "cell_type": "code",
   "execution_count": 25,
   "metadata": {
    "scrolled": true
   },
   "outputs": [
    {
     "data": {
      "text/plain": [
       "<Figure size 432x288 with 0 Axes>"
      ]
     },
     "metadata": {},
     "output_type": "display_data"
    },
    {
     "data": {
      "image/png": "[encoded data removed]",
      "text/plain": [
       "<Figure size 432x288 with 1 Axes>"
      ]
     },
     "metadata": {
      "needs_background": "light"
     },
     "output_type": "display_data"
    },
    {
     "name": "stdout",
     "output_type": "stream",
     "text": [
      "\\begin{tabular}{rrrrr}\n",
      "\\toprule\n",
      "  n &     W &     Serial &   Parallel &   speedup \\\\\n",
      "\\midrule\n",
      "  2 &  1000 &    325.859 &    358.466 &  1.099864 \\\\\n",
      "  2 &  2000 &    634.021 &    666.656 &  1.051629 \\\\\n",
      "  2 &  4000 &   1250.453 &   1283.114 &  1.026015 \\\\\n",
      "  2 &  8000 &   2483.611 &   2516.172 &  1.013040 \\\\\n",
      "  3 &  1000 &    651.310 &    394.096 &  0.605050 \\\\\n",
      "  3 &  2000 &   1268.089 &    747.321 &  0.589130 \\\\\n",
      "  3 &  4000 &   2501.889 &   1451.118 &  0.579998 \\\\\n",
      "  3 &  8000 &   4968.313 &   2848.891 &  0.573424 \\\\\n",
      "  5 &  1000 &   1304.294 &    456.056 &  0.349665 \\\\\n",
      "  5 &  2000 &   2540.272 &    868.236 &  0.341772 \\\\\n",
      "  5 &  4000 &   5011.551 &   1690.381 &  0.337314 \\\\\n",
      "  5 &  8000 &   9953.814 &   3335.548 &  0.335118 \\\\\n",
      "  9 &  1000 &   2612.716 &    698.347 &  0.267190 \\\\\n",
      "  9 &  2000 &   5084.639 &   1350.378 &  0.265560 \\\\\n",
      "  9 &  4000 &  10032.797 &   2651.495 &  0.264280 \\\\\n",
      "  9 &  8000 &  19926.408 &   5250.336 &  0.263486 \\\\\n",
      " 14 &  1000 &   4243.362 &   1036.227 &  0.244284 \\\\\n",
      " 14 &  2000 &   8263.844 &   1337.424 &  0.161824 \\\\\n",
      " 14 &  4000 &  16298.538 &   2584.926 &  0.158603 \\\\\n",
      " 14 &  8000 &  32372.576 &   5115.862 &  0.158033 \\\\\n",
      " 28 &  1000 &   8809.014 &   7981.892 &  0.906140 \\\\\n",
      " 28 &  2000 &  17154.600 &  13964.580 &  0.814002 \\\\\n",
      " 28 &  4000 &  33834.855 &  27023.031 &  0.798657 \\\\\n",
      " 28 &  8000 &  67207.453 &  41150.125 &  0.612323 \\\\\n",
      "\\bottomrule\n",
      "\\end{tabular}\n",
      "\n"
     ]
    }
   ],
   "source": [
    "speedup_plot('result/exponential.csv', \n",
    "             'Speedup with Exponentially Distributed Load')"
   ]
  }
 ],
 "metadata": {
  "kernelspec": {
   "display_name": "Python 3",
   "language": "python",
   "name": "python3"
  },
  "language_info": {
   "codemirror_mode": {
    "name": "ipython",
    "version": 3
   },
   "file_extension": ".py",
   "mimetype": "text/x-python",
   "name": "python",
   "nbconvert_exporter": "python",
   "pygments_lexer": "ipython3",
   "version": "3.7.0"
  }
 },
 "nbformat": 4,
 "nbformat_minor": 2
}
